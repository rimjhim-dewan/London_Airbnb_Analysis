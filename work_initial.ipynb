{
 "cells": [
  {
   "cell_type": "code",
   "execution_count": 1,
   "id": "947c541d",
   "metadata": {},
   "outputs": [],
   "source": [
    "import pandas as pd\n",
    "import numpy as np\n",
    "from matplotlib import pyplot as plt"
   ]
  },
  {
   "cell_type": "code",
   "execution_count": 2,
   "id": "dd019a25",
   "metadata": {},
   "outputs": [],
   "source": [
    "df=pd.read_csv('London_Airbnb_Listings_March_2023.csv')"
   ]
  },
  {
   "cell_type": "code",
   "execution_count": 3,
   "id": "c864f6ad",
   "metadata": {},
   "outputs": [
    {
     "data": {
      "text/html": [
       "<div>\n",
       "<style scoped>\n",
       "    .dataframe tbody tr th:only-of-type {\n",
       "        vertical-align: middle;\n",
       "    }\n",
       "\n",
       "    .dataframe tbody tr th {\n",
       "        vertical-align: top;\n",
       "    }\n",
       "\n",
       "    .dataframe thead th {\n",
       "        text-align: right;\n",
       "    }\n",
       "</style>\n",
       "<table border=\"1\" class=\"dataframe\">\n",
       "  <thead>\n",
       "    <tr style=\"text-align: right;\">\n",
       "      <th></th>\n",
       "      <th>name</th>\n",
       "      <th>host_name</th>\n",
       "      <th>latitude</th>\n",
       "      <th>longitude</th>\n",
       "      <th>host_since</th>\n",
       "      <th>host_location</th>\n",
       "      <th>host_acceptance_rate</th>\n",
       "      <th>property_type</th>\n",
       "      <th>room_type</th>\n",
       "      <th>price</th>\n",
       "      <th>minimum_nights</th>\n",
       "      <th>maximum_nights</th>\n",
       "      <th>availability_30</th>\n",
       "      <th>availability_365</th>\n",
       "      <th>number_of_reviews</th>\n",
       "      <th>review_scores_rating</th>\n",
       "    </tr>\n",
       "  </thead>\n",
       "  <tbody>\n",
       "    <tr>\n",
       "      <th>0</th>\n",
       "      <td>Lovely private bedroom in Muswell Hill.</td>\n",
       "      <td>Forough</td>\n",
       "      <td>51.597280</td>\n",
       "      <td>-0.139330</td>\n",
       "      <td>2015-07-20</td>\n",
       "      <td>London, United Kingdom</td>\n",
       "      <td>NaN</td>\n",
       "      <td>Private room in condo</td>\n",
       "      <td>Private room</td>\n",
       "      <td>$100.00</td>\n",
       "      <td>1</td>\n",
       "      <td>365</td>\n",
       "      <td>30</td>\n",
       "      <td>365</td>\n",
       "      <td>0</td>\n",
       "      <td>NaN</td>\n",
       "    </tr>\n",
       "    <tr>\n",
       "      <th>1</th>\n",
       "      <td>Studio Flat  Franklin London</td>\n",
       "      <td>Hussein</td>\n",
       "      <td>51.636518</td>\n",
       "      <td>-0.177475</td>\n",
       "      <td>2023-01-14</td>\n",
       "      <td>London, United Kingdom</td>\n",
       "      <td>100%</td>\n",
       "      <td>Entire rental unit</td>\n",
       "      <td>Entire home/apt</td>\n",
       "      <td>$65.00</td>\n",
       "      <td>180</td>\n",
       "      <td>365</td>\n",
       "      <td>30</td>\n",
       "      <td>365</td>\n",
       "      <td>0</td>\n",
       "      <td>NaN</td>\n",
       "    </tr>\n",
       "    <tr>\n",
       "      <th>2</th>\n",
       "      <td>PropertyPlug - 2Bed Flat in Edgware SmartTV WiFi</td>\n",
       "      <td>Paul</td>\n",
       "      <td>51.608180</td>\n",
       "      <td>-0.277400</td>\n",
       "      <td>2020-01-08</td>\n",
       "      <td>NaN</td>\n",
       "      <td>91%</td>\n",
       "      <td>Entire rental unit</td>\n",
       "      <td>Entire home/apt</td>\n",
       "      <td>$132.00</td>\n",
       "      <td>2</td>\n",
       "      <td>28</td>\n",
       "      <td>12</td>\n",
       "      <td>35</td>\n",
       "      <td>0</td>\n",
       "      <td>NaN</td>\n",
       "    </tr>\n",
       "    <tr>\n",
       "      <th>3</th>\n",
       "      <td>Wimbledon Double Bedroom Ensuite</td>\n",
       "      <td>Nikki</td>\n",
       "      <td>51.422310</td>\n",
       "      <td>-0.188410</td>\n",
       "      <td>2010-08-01</td>\n",
       "      <td>London, United Kingdom</td>\n",
       "      <td>100%</td>\n",
       "      <td>Private room in rental unit</td>\n",
       "      <td>Private room</td>\n",
       "      <td>$100.00</td>\n",
       "      <td>5</td>\n",
       "      <td>1125</td>\n",
       "      <td>30</td>\n",
       "      <td>365</td>\n",
       "      <td>4</td>\n",
       "      <td>3.67</td>\n",
       "    </tr>\n",
       "    <tr>\n",
       "      <th>4</th>\n",
       "      <td>Stunning Apartment 2 minutes walk to Tube Station</td>\n",
       "      <td>Joseph</td>\n",
       "      <td>51.602282</td>\n",
       "      <td>-0.193606</td>\n",
       "      <td>2014-12-22</td>\n",
       "      <td>NaN</td>\n",
       "      <td>46%</td>\n",
       "      <td>Entire condo</td>\n",
       "      <td>Entire home/apt</td>\n",
       "      <td>$120.00</td>\n",
       "      <td>5</td>\n",
       "      <td>90</td>\n",
       "      <td>23</td>\n",
       "      <td>337</td>\n",
       "      <td>0</td>\n",
       "      <td>NaN</td>\n",
       "    </tr>\n",
       "  </tbody>\n",
       "</table>\n",
       "</div>"
      ],
      "text/plain": [
       "                                                name host_name   latitude  \\\n",
       "0            Lovely private bedroom in Muswell Hill.   Forough  51.597280   \n",
       "1                       Studio Flat  Franklin London   Hussein  51.636518   \n",
       "2   PropertyPlug - 2Bed Flat in Edgware SmartTV WiFi      Paul  51.608180   \n",
       "3                   Wimbledon Double Bedroom Ensuite     Nikki  51.422310   \n",
       "4  Stunning Apartment 2 minutes walk to Tube Station    Joseph  51.602282   \n",
       "\n",
       "   longitude  host_since           host_location host_acceptance_rate  \\\n",
       "0  -0.139330  2015-07-20  London, United Kingdom                  NaN   \n",
       "1  -0.177475  2023-01-14  London, United Kingdom                 100%   \n",
       "2  -0.277400  2020-01-08                     NaN                  91%   \n",
       "3  -0.188410  2010-08-01  London, United Kingdom                 100%   \n",
       "4  -0.193606  2014-12-22                     NaN                  46%   \n",
       "\n",
       "                 property_type        room_type    price  minimum_nights  \\\n",
       "0        Private room in condo     Private room  $100.00               1   \n",
       "1           Entire rental unit  Entire home/apt   $65.00             180   \n",
       "2           Entire rental unit  Entire home/apt  $132.00               2   \n",
       "3  Private room in rental unit     Private room  $100.00               5   \n",
       "4                 Entire condo  Entire home/apt  $120.00               5   \n",
       "\n",
       "   maximum_nights  availability_30  availability_365  number_of_reviews  \\\n",
       "0             365               30               365                  0   \n",
       "1             365               30               365                  0   \n",
       "2              28               12                35                  0   \n",
       "3            1125               30               365                  4   \n",
       "4              90               23               337                  0   \n",
       "\n",
       "   review_scores_rating  \n",
       "0                   NaN  \n",
       "1                   NaN  \n",
       "2                   NaN  \n",
       "3                  3.67  \n",
       "4                   NaN  "
      ]
     },
     "execution_count": 3,
     "metadata": {},
     "output_type": "execute_result"
    }
   ],
   "source": [
    "df.head()"
   ]
  },
  {
   "cell_type": "code",
   "execution_count": 4,
   "id": "778ba33f",
   "metadata": {},
   "outputs": [
    {
     "data": {
      "text/plain": [
       "Entire rental unit             26457\n",
       "Private room in rental unit    12626\n",
       "Private room in home            9014\n",
       "Entire condo                    8843\n",
       "Entire home                     6068\n",
       "                               ...  \n",
       "Shared room in bus                 1\n",
       "Shepherd’s hut                     1\n",
       "Yurt                               1\n",
       "Minsu                              1\n",
       "Room in rental unit                1\n",
       "Name: property_type, Length: 101, dtype: int64"
      ]
     },
     "execution_count": 4,
     "metadata": {},
     "output_type": "execute_result"
    }
   ],
   "source": [
    "df['property_type'].value_counts()"
   ]
  },
  {
   "cell_type": "code",
   "execution_count": 10,
   "id": "d202a458",
   "metadata": {},
   "outputs": [],
   "source": [
    "import seaborn as sns"
   ]
  },
  {
   "cell_type": "code",
   "execution_count": 39,
   "id": "4c536510",
   "metadata": {},
   "outputs": [],
   "source": [
    "df['pricecat']=df['price']"
   ]
  },
  {
   "cell_type": "code",
   "execution_count": 40,
   "id": "109ea376",
   "metadata": {},
   "outputs": [
    {
     "name": "stderr",
     "output_type": "stream",
     "text": [
      "C:\\Users\\chinm\\AppData\\Local\\Temp\\ipykernel_7820\\2827547438.py:8: SettingWithCopyWarning: \n",
      "A value is trying to be set on a copy of a slice from a DataFrame\n",
      "\n",
      "See the caveats in the documentation: https://pandas.pydata.org/pandas-docs/stable/user_guide/indexing.html#returning-a-view-versus-a-copy\n",
      "  df['pricecat'][i]=300\n",
      "C:\\Users\\chinm\\AppData\\Local\\Temp\\ipykernel_7820\\2827547438.py:6: SettingWithCopyWarning: \n",
      "A value is trying to be set on a copy of a slice from a DataFrame\n",
      "\n",
      "See the caveats in the documentation: https://pandas.pydata.org/pandas-docs/stable/user_guide/indexing.html#returning-a-view-versus-a-copy\n",
      "  df['pricecat'][i]=100\n",
      "C:\\Users\\chinm\\AppData\\Local\\Temp\\ipykernel_7820\\2827547438.py:12: SettingWithCopyWarning: \n",
      "A value is trying to be set on a copy of a slice from a DataFrame\n",
      "\n",
      "See the caveats in the documentation: https://pandas.pydata.org/pandas-docs/stable/user_guide/indexing.html#returning-a-view-versus-a-copy\n",
      "  df['pricecat'][i]=1000\n",
      "C:\\Users\\chinm\\AppData\\Local\\Temp\\ipykernel_7820\\2827547438.py:10: SettingWithCopyWarning: \n",
      "A value is trying to be set on a copy of a slice from a DataFrame\n",
      "\n",
      "See the caveats in the documentation: https://pandas.pydata.org/pandas-docs/stable/user_guide/indexing.html#returning-a-view-versus-a-copy\n",
      "  df['pricecat'][i]=500\n",
      "C:\\Users\\chinm\\AppData\\Local\\Temp\\ipykernel_7820\\2827547438.py:14: SettingWithCopyWarning: \n",
      "A value is trying to be set on a copy of a slice from a DataFrame\n",
      "\n",
      "See the caveats in the documentation: https://pandas.pydata.org/pandas-docs/stable/user_guide/indexing.html#returning-a-view-versus-a-copy\n",
      "  df['pricecat'][i]=3000\n"
     ]
    }
   ],
   "source": [
    "for i in range(len(df)):\n",
    "    \n",
    "    x=df['price'][i]\n",
    "    \n",
    "    if(x<100):\n",
    "        df['pricecat'][i]=100\n",
    "    elif(x<300):\n",
    "        df['pricecat'][i]=300\n",
    "    elif(x<500):\n",
    "        df['pricecat'][i]=500\n",
    "    elif(x<1000):\n",
    "        df['pricecat'][i]=1000\n",
    "    else:\n",
    "        df['pricecat'][i]=3000"
   ]
  },
  {
   "cell_type": "code",
   "execution_count": 60,
   "id": "90c146d9",
   "metadata": {},
   "outputs": [
    {
     "name": "stderr",
     "output_type": "stream",
     "text": [
      "C:\\Users\\chinm\\AppData\\Local\\Temp\\ipykernel_7820\\329927335.py:2: SettingWithCopyWarning: \n",
      "A value is trying to be set on a copy of a slice from a DataFrame\n",
      "\n",
      "See the caveats in the documentation: https://pandas.pydata.org/pandas-docs/stable/user_guide/indexing.html#returning-a-view-versus-a-copy\n",
      "  df['price'][i]=df['price'][i][1:]\n"
     ]
    }
   ],
   "source": [
    "for i in range(len(df)):\n",
    "    df['price'][i]=df['price'][i][1:]\n",
    "    "
   ]
  },
  {
   "cell_type": "code",
   "execution_count": 24,
   "id": "5cfd258b",
   "metadata": {},
   "outputs": [
    {
     "data": {
      "text/html": [
       "<div>\n",
       "<style scoped>\n",
       "    .dataframe tbody tr th:only-of-type {\n",
       "        vertical-align: middle;\n",
       "    }\n",
       "\n",
       "    .dataframe tbody tr th {\n",
       "        vertical-align: top;\n",
       "    }\n",
       "\n",
       "    .dataframe thead th {\n",
       "        text-align: right;\n",
       "    }\n",
       "</style>\n",
       "<table border=\"1\" class=\"dataframe\">\n",
       "  <thead>\n",
       "    <tr style=\"text-align: right;\">\n",
       "      <th></th>\n",
       "      <th>name</th>\n",
       "      <th>host_name</th>\n",
       "      <th>latitude</th>\n",
       "      <th>longitude</th>\n",
       "      <th>host_since</th>\n",
       "      <th>host_location</th>\n",
       "      <th>host_acceptance_rate</th>\n",
       "      <th>property_type</th>\n",
       "      <th>room_type</th>\n",
       "      <th>price</th>\n",
       "      <th>minimum_nights</th>\n",
       "      <th>maximum_nights</th>\n",
       "      <th>availability_30</th>\n",
       "      <th>availability_365</th>\n",
       "      <th>number_of_reviews</th>\n",
       "      <th>review_scores_rating</th>\n",
       "    </tr>\n",
       "  </thead>\n",
       "  <tbody>\n",
       "    <tr>\n",
       "      <th>0</th>\n",
       "      <td>Lovely private bedroom in Muswell Hill.</td>\n",
       "      <td>Forough</td>\n",
       "      <td>51.597280</td>\n",
       "      <td>-0.139330</td>\n",
       "      <td>2015-07-20</td>\n",
       "      <td>London, United Kingdom</td>\n",
       "      <td>NaN</td>\n",
       "      <td>Private room in condo</td>\n",
       "      <td>Private room</td>\n",
       "      <td>100.00</td>\n",
       "      <td>1</td>\n",
       "      <td>365</td>\n",
       "      <td>30</td>\n",
       "      <td>365</td>\n",
       "      <td>0</td>\n",
       "      <td>NaN</td>\n",
       "    </tr>\n",
       "    <tr>\n",
       "      <th>1</th>\n",
       "      <td>Studio Flat  Franklin London</td>\n",
       "      <td>Hussein</td>\n",
       "      <td>51.636518</td>\n",
       "      <td>-0.177475</td>\n",
       "      <td>2023-01-14</td>\n",
       "      <td>London, United Kingdom</td>\n",
       "      <td>100%</td>\n",
       "      <td>Entire rental unit</td>\n",
       "      <td>Entire home/apt</td>\n",
       "      <td>65.00</td>\n",
       "      <td>180</td>\n",
       "      <td>365</td>\n",
       "      <td>30</td>\n",
       "      <td>365</td>\n",
       "      <td>0</td>\n",
       "      <td>NaN</td>\n",
       "    </tr>\n",
       "    <tr>\n",
       "      <th>2</th>\n",
       "      <td>PropertyPlug - 2Bed Flat in Edgware SmartTV WiFi</td>\n",
       "      <td>Paul</td>\n",
       "      <td>51.608180</td>\n",
       "      <td>-0.277400</td>\n",
       "      <td>2020-01-08</td>\n",
       "      <td>NaN</td>\n",
       "      <td>91%</td>\n",
       "      <td>Entire rental unit</td>\n",
       "      <td>Entire home/apt</td>\n",
       "      <td>132.00</td>\n",
       "      <td>2</td>\n",
       "      <td>28</td>\n",
       "      <td>12</td>\n",
       "      <td>35</td>\n",
       "      <td>0</td>\n",
       "      <td>NaN</td>\n",
       "    </tr>\n",
       "    <tr>\n",
       "      <th>3</th>\n",
       "      <td>Wimbledon Double Bedroom Ensuite</td>\n",
       "      <td>Nikki</td>\n",
       "      <td>51.422310</td>\n",
       "      <td>-0.188410</td>\n",
       "      <td>2010-08-01</td>\n",
       "      <td>London, United Kingdom</td>\n",
       "      <td>100%</td>\n",
       "      <td>Private room in rental unit</td>\n",
       "      <td>Private room</td>\n",
       "      <td>100.00</td>\n",
       "      <td>5</td>\n",
       "      <td>1125</td>\n",
       "      <td>30</td>\n",
       "      <td>365</td>\n",
       "      <td>4</td>\n",
       "      <td>3.67</td>\n",
       "    </tr>\n",
       "    <tr>\n",
       "      <th>4</th>\n",
       "      <td>Stunning Apartment 2 minutes walk to Tube Station</td>\n",
       "      <td>Joseph</td>\n",
       "      <td>51.602282</td>\n",
       "      <td>-0.193606</td>\n",
       "      <td>2014-12-22</td>\n",
       "      <td>NaN</td>\n",
       "      <td>46%</td>\n",
       "      <td>Entire condo</td>\n",
       "      <td>Entire home/apt</td>\n",
       "      <td>120.00</td>\n",
       "      <td>5</td>\n",
       "      <td>90</td>\n",
       "      <td>23</td>\n",
       "      <td>337</td>\n",
       "      <td>0</td>\n",
       "      <td>NaN</td>\n",
       "    </tr>\n",
       "  </tbody>\n",
       "</table>\n",
       "</div>"
      ],
      "text/plain": [
       "                                                name host_name   latitude  \\\n",
       "0            Lovely private bedroom in Muswell Hill.   Forough  51.597280   \n",
       "1                       Studio Flat  Franklin London   Hussein  51.636518   \n",
       "2   PropertyPlug - 2Bed Flat in Edgware SmartTV WiFi      Paul  51.608180   \n",
       "3                   Wimbledon Double Bedroom Ensuite     Nikki  51.422310   \n",
       "4  Stunning Apartment 2 minutes walk to Tube Station    Joseph  51.602282   \n",
       "\n",
       "   longitude  host_since           host_location host_acceptance_rate  \\\n",
       "0  -0.139330  2015-07-20  London, United Kingdom                  NaN   \n",
       "1  -0.177475  2023-01-14  London, United Kingdom                 100%   \n",
       "2  -0.277400  2020-01-08                     NaN                  91%   \n",
       "3  -0.188410  2010-08-01  London, United Kingdom                 100%   \n",
       "4  -0.193606  2014-12-22                     NaN                  46%   \n",
       "\n",
       "                 property_type        room_type   price  minimum_nights  \\\n",
       "0        Private room in condo     Private room  100.00               1   \n",
       "1           Entire rental unit  Entire home/apt   65.00             180   \n",
       "2           Entire rental unit  Entire home/apt  132.00               2   \n",
       "3  Private room in rental unit     Private room  100.00               5   \n",
       "4                 Entire condo  Entire home/apt  120.00               5   \n",
       "\n",
       "   maximum_nights  availability_30  availability_365  number_of_reviews  \\\n",
       "0             365               30               365                  0   \n",
       "1             365               30               365                  0   \n",
       "2              28               12                35                  0   \n",
       "3            1125               30               365                  4   \n",
       "4              90               23               337                  0   \n",
       "\n",
       "   review_scores_rating  \n",
       "0                   NaN  \n",
       "1                   NaN  \n",
       "2                   NaN  \n",
       "3                  3.67  \n",
       "4                   NaN  "
      ]
     },
     "execution_count": 24,
     "metadata": {},
     "output_type": "execute_result"
    }
   ],
   "source": [
    "df.head()"
   ]
  },
  {
   "cell_type": "code",
   "execution_count": 5,
   "id": "6f76c056",
   "metadata": {},
   "outputs": [],
   "source": [
    "def tocurr(x):\n",
    "    stringdes=\"\"\n",
    "    \n",
    "    for i in range(len(x)):\n",
    "        if(x[i]=='.'):\n",
    "            return stringdes\n",
    "        elif(x[i]>='0' and x[i]<='9'):\n",
    "            stringdes+=x[i]\n",
    "    \n",
    "    \n",
    "    return stringdes"
   ]
  },
  {
   "cell_type": "code",
   "execution_count": 6,
   "id": "97b8e2f9",
   "metadata": {},
   "outputs": [
    {
     "name": "stderr",
     "output_type": "stream",
     "text": [
      "C:\\Users\\chinm\\AppData\\Local\\Temp\\ipykernel_19280\\2587711412.py:2: SettingWithCopyWarning: \n",
      "A value is trying to be set on a copy of a slice from a DataFrame\n",
      "\n",
      "See the caveats in the documentation: https://pandas.pydata.org/pandas-docs/stable/user_guide/indexing.html#returning-a-view-versus-a-copy\n",
      "  df['price'][i]=tocurr(df['price'][i])\n"
     ]
    }
   ],
   "source": [
    "for i in range(len(df)):\n",
    "    df['price'][i]=tocurr(df['price'][i])"
   ]
  },
  {
   "cell_type": "code",
   "execution_count": 7,
   "id": "89c44d02",
   "metadata": {},
   "outputs": [
    {
     "name": "stderr",
     "output_type": "stream",
     "text": [
      "C:\\Users\\chinm\\AppData\\Local\\Temp\\ipykernel_19280\\3573593710.py:2: SettingWithCopyWarning: \n",
      "A value is trying to be set on a copy of a slice from a DataFrame\n",
      "\n",
      "See the caveats in the documentation: https://pandas.pydata.org/pandas-docs/stable/user_guide/indexing.html#returning-a-view-versus-a-copy\n",
      "  df['price'][i]=int(df['price'][i])\n"
     ]
    }
   ],
   "source": [
    "for i in range(len(df)):\n",
    "    df['price'][i]=int(df['price'][i])"
   ]
  },
  {
   "cell_type": "code",
   "execution_count": 8,
   "id": "9468223f",
   "metadata": {},
   "outputs": [
    {
     "data": {
      "text/html": [
       "<div>\n",
       "<style scoped>\n",
       "    .dataframe tbody tr th:only-of-type {\n",
       "        vertical-align: middle;\n",
       "    }\n",
       "\n",
       "    .dataframe tbody tr th {\n",
       "        vertical-align: top;\n",
       "    }\n",
       "\n",
       "    .dataframe thead th {\n",
       "        text-align: right;\n",
       "    }\n",
       "</style>\n",
       "<table border=\"1\" class=\"dataframe\">\n",
       "  <thead>\n",
       "    <tr style=\"text-align: right;\">\n",
       "      <th></th>\n",
       "      <th>name</th>\n",
       "      <th>host_name</th>\n",
       "      <th>latitude</th>\n",
       "      <th>longitude</th>\n",
       "      <th>host_since</th>\n",
       "      <th>host_location</th>\n",
       "      <th>host_acceptance_rate</th>\n",
       "      <th>property_type</th>\n",
       "      <th>room_type</th>\n",
       "      <th>price</th>\n",
       "      <th>minimum_nights</th>\n",
       "      <th>maximum_nights</th>\n",
       "      <th>availability_30</th>\n",
       "      <th>availability_365</th>\n",
       "      <th>number_of_reviews</th>\n",
       "      <th>review_scores_rating</th>\n",
       "    </tr>\n",
       "  </thead>\n",
       "  <tbody>\n",
       "    <tr>\n",
       "      <th>0</th>\n",
       "      <td>Lovely private bedroom in Muswell Hill.</td>\n",
       "      <td>Forough</td>\n",
       "      <td>51.597280</td>\n",
       "      <td>-0.139330</td>\n",
       "      <td>2015-07-20</td>\n",
       "      <td>London, United Kingdom</td>\n",
       "      <td>NaN</td>\n",
       "      <td>Private room in condo</td>\n",
       "      <td>Private room</td>\n",
       "      <td>100</td>\n",
       "      <td>1</td>\n",
       "      <td>365</td>\n",
       "      <td>30</td>\n",
       "      <td>365</td>\n",
       "      <td>0</td>\n",
       "      <td>NaN</td>\n",
       "    </tr>\n",
       "    <tr>\n",
       "      <th>1</th>\n",
       "      <td>Studio Flat  Franklin London</td>\n",
       "      <td>Hussein</td>\n",
       "      <td>51.636518</td>\n",
       "      <td>-0.177475</td>\n",
       "      <td>2023-01-14</td>\n",
       "      <td>London, United Kingdom</td>\n",
       "      <td>100%</td>\n",
       "      <td>Entire rental unit</td>\n",
       "      <td>Entire home/apt</td>\n",
       "      <td>65</td>\n",
       "      <td>180</td>\n",
       "      <td>365</td>\n",
       "      <td>30</td>\n",
       "      <td>365</td>\n",
       "      <td>0</td>\n",
       "      <td>NaN</td>\n",
       "    </tr>\n",
       "    <tr>\n",
       "      <th>2</th>\n",
       "      <td>PropertyPlug - 2Bed Flat in Edgware SmartTV WiFi</td>\n",
       "      <td>Paul</td>\n",
       "      <td>51.608180</td>\n",
       "      <td>-0.277400</td>\n",
       "      <td>2020-01-08</td>\n",
       "      <td>NaN</td>\n",
       "      <td>91%</td>\n",
       "      <td>Entire rental unit</td>\n",
       "      <td>Entire home/apt</td>\n",
       "      <td>132</td>\n",
       "      <td>2</td>\n",
       "      <td>28</td>\n",
       "      <td>12</td>\n",
       "      <td>35</td>\n",
       "      <td>0</td>\n",
       "      <td>NaN</td>\n",
       "    </tr>\n",
       "    <tr>\n",
       "      <th>3</th>\n",
       "      <td>Wimbledon Double Bedroom Ensuite</td>\n",
       "      <td>Nikki</td>\n",
       "      <td>51.422310</td>\n",
       "      <td>-0.188410</td>\n",
       "      <td>2010-08-01</td>\n",
       "      <td>London, United Kingdom</td>\n",
       "      <td>100%</td>\n",
       "      <td>Private room in rental unit</td>\n",
       "      <td>Private room</td>\n",
       "      <td>100</td>\n",
       "      <td>5</td>\n",
       "      <td>1125</td>\n",
       "      <td>30</td>\n",
       "      <td>365</td>\n",
       "      <td>4</td>\n",
       "      <td>3.67</td>\n",
       "    </tr>\n",
       "    <tr>\n",
       "      <th>4</th>\n",
       "      <td>Stunning Apartment 2 minutes walk to Tube Station</td>\n",
       "      <td>Joseph</td>\n",
       "      <td>51.602282</td>\n",
       "      <td>-0.193606</td>\n",
       "      <td>2014-12-22</td>\n",
       "      <td>NaN</td>\n",
       "      <td>46%</td>\n",
       "      <td>Entire condo</td>\n",
       "      <td>Entire home/apt</td>\n",
       "      <td>120</td>\n",
       "      <td>5</td>\n",
       "      <td>90</td>\n",
       "      <td>23</td>\n",
       "      <td>337</td>\n",
       "      <td>0</td>\n",
       "      <td>NaN</td>\n",
       "    </tr>\n",
       "  </tbody>\n",
       "</table>\n",
       "</div>"
      ],
      "text/plain": [
       "                                                name host_name   latitude  \\\n",
       "0            Lovely private bedroom in Muswell Hill.   Forough  51.597280   \n",
       "1                       Studio Flat  Franklin London   Hussein  51.636518   \n",
       "2   PropertyPlug - 2Bed Flat in Edgware SmartTV WiFi      Paul  51.608180   \n",
       "3                   Wimbledon Double Bedroom Ensuite     Nikki  51.422310   \n",
       "4  Stunning Apartment 2 minutes walk to Tube Station    Joseph  51.602282   \n",
       "\n",
       "   longitude  host_since           host_location host_acceptance_rate  \\\n",
       "0  -0.139330  2015-07-20  London, United Kingdom                  NaN   \n",
       "1  -0.177475  2023-01-14  London, United Kingdom                 100%   \n",
       "2  -0.277400  2020-01-08                     NaN                  91%   \n",
       "3  -0.188410  2010-08-01  London, United Kingdom                 100%   \n",
       "4  -0.193606  2014-12-22                     NaN                  46%   \n",
       "\n",
       "                 property_type        room_type price  minimum_nights  \\\n",
       "0        Private room in condo     Private room   100               1   \n",
       "1           Entire rental unit  Entire home/apt    65             180   \n",
       "2           Entire rental unit  Entire home/apt   132               2   \n",
       "3  Private room in rental unit     Private room   100               5   \n",
       "4                 Entire condo  Entire home/apt   120               5   \n",
       "\n",
       "   maximum_nights  availability_30  availability_365  number_of_reviews  \\\n",
       "0             365               30               365                  0   \n",
       "1             365               30               365                  0   \n",
       "2              28               12                35                  0   \n",
       "3            1125               30               365                  4   \n",
       "4              90               23               337                  0   \n",
       "\n",
       "   review_scores_rating  \n",
       "0                   NaN  \n",
       "1                   NaN  \n",
       "2                   NaN  \n",
       "3                  3.67  \n",
       "4                   NaN  "
      ]
     },
     "execution_count": 8,
     "metadata": {},
     "output_type": "execute_result"
    }
   ],
   "source": [
    "df.head()"
   ]
  },
  {
   "cell_type": "code",
   "execution_count": 9,
   "id": "75358498",
   "metadata": {},
   "outputs": [],
   "source": [
    "df.to_csv('price_to_int.csv')"
   ]
  },
  {
   "cell_type": "code",
   "execution_count": 56,
   "id": "5745f6e7",
   "metadata": {},
   "outputs": [
    {
     "ename": "SyntaxError",
     "evalue": "incomplete input (2096489102.py, line 3)",
     "output_type": "error",
     "traceback": [
      "\u001b[1;36m  Cell \u001b[1;32mIn [56], line 3\u001b[1;36m\u001b[0m\n\u001b[1;33m    df['host_since'][i]=2023-int(df['host_since'][i][0:4])\u001b[0m\n\u001b[1;37m                                                          ^\u001b[0m\n\u001b[1;31mSyntaxError\u001b[0m\u001b[1;31m:\u001b[0m incomplete input\n"
     ]
    }
   ],
   "source": [
    "for i in range(len(df)):\n",
    "    try:\n",
    "        df['host_since'][i]=2023-int(df['host_since'][i][0:4])"
   ]
  },
  {
   "cell_type": "code",
   "execution_count": 55,
   "id": "c78e0d85",
   "metadata": {},
   "outputs": [
    {
     "data": {
      "text/plain": [
       "0                 8\n",
       "1                 0\n",
       "2                 3\n",
       "3                13\n",
       "4                 9\n",
       "            ...    \n",
       "75236    2016-02-09\n",
       "75237    2023-02-07\n",
       "75238    2018-10-12\n",
       "75239    2016-07-24\n",
       "75240    2022-03-28\n",
       "Name: host_since, Length: 75241, dtype: object"
      ]
     },
     "execution_count": 55,
     "metadata": {},
     "output_type": "execute_result"
    }
   ],
   "source": [
    "print(type)"
   ]
  },
  {
   "cell_type": "code",
   "execution_count": 47,
   "id": "62bfa350",
   "metadata": {},
   "outputs": [
    {
     "data": {
      "text/plain": [
       "<AxesSubplot: xlabel='pricecat', ylabel='Count'>"
      ]
     },
     "execution_count": 47,
     "metadata": {},
     "output_type": "execute_result"
    },
    {
     "data": {
      "image/png": "[encoded data removed]",
      "text/plain": [
       "<Figure size 640x480 with 1 Axes>"
      ]
     },
     "metadata": {},
     "output_type": "display_data"
    }
   ],
   "source": [
    "sns.histplot(df['pricecat'])"
   ]
  },
  {
   "cell_type": "code",
   "execution_count": 49,
   "id": "5f37816f",
   "metadata": {},
   "outputs": [
    {
     "data": {
      "text/plain": [
       "(array([   68.,   628.,  1963.,  5149., 13264., 27767., 18961.,  5754.,\n",
       "         1309.,   378.]),\n",
       " array([51.295937  , 51.33445749, 51.37297798, 51.41149847, 51.45001896,\n",
       "        51.48853945, 51.52705994, 51.56558043, 51.60410092, 51.64262141,\n",
       "        51.6811419 ]),\n",
       " <BarContainer object of 10 artists>)"
      ]
     },
     "execution_count": 49,
     "metadata": {},
     "output_type": "execute_result"
    },
    {
     "data": {
      "image/png": "[encoded data removed]",
      "text/plain": [
       "<Figure size 640x480 with 1 Axes>"
      ]
     },
     "metadata": {},
     "output_type": "display_data"
    }
   ],
   "source": [
    "plt.hist(df['latitude'])"
   ]
  },
  {
   "cell_type": "code",
   "execution_count": 50,
   "id": "6c6ee7cc",
   "metadata": {},
   "outputs": [
    {
     "data": {
      "text/plain": [
       "(array([  635.,  1227.,  3976., 15321., 23701., 20706.,  6869.,  2045.,\n",
       "          664.,    97.]),\n",
       " array([-0.4978  , -0.419163, -0.340526, -0.261889, -0.183252, -0.104615,\n",
       "        -0.025978,  0.052659,  0.131296,  0.209933,  0.28857 ]),\n",
       " <BarContainer object of 10 artists>)"
      ]
     },
     "execution_count": 50,
     "metadata": {},
     "output_type": "execute_result"
    },
    {
     "data": {
      "image/png": "[encoded data removed]",
      "text/plain": [
       "<Figure size 640x480 with 1 Axes>"
      ]
     },
     "metadata": {},
     "output_type": "display_data"
    }
   ],
   "source": [
    "plt.hist(df['longitude'])"
   ]
  },
  {
   "cell_type": "code",
   "execution_count": 51,
   "id": "2068f0c2",
   "metadata": {},
   "outputs": [
    {
     "data": {
      "text/plain": [
       "(array([28910.,     0.,     0., 45714.,     0.,     0.,   403.,     0.,\n",
       "            0.,   214.]),\n",
       " array([0. , 0.3, 0.6, 0.9, 1.2, 1.5, 1.8, 2.1, 2.4, 2.7, 3. ]),\n",
       " <BarContainer object of 10 artists>)"
      ]
     },
     "execution_count": 51,
     "metadata": {},
     "output_type": "execute_result"
    },
    {
     "data": {
      "image/png": "[encoded data removed]",
      "text/plain": [
       "<Figure size 640x480 with 1 Axes>"
      ]
     },
     "metadata": {},
     "output_type": "display_data"
    }
   ],
   "source": [
    "plt.hist(df['room_type'])"
   ]
  },
  {
   "cell_type": "code",
   "execution_count": null,
   "id": "af580ad3",
   "metadata": {},
   "outputs": [],
   "source": []
  }
 ],
 "metadata": {
  "kernelspec": {
   "display_name": "Python 3 (ipykernel)",
   "language": "python",
   "name": "python3"
  },
  "language_info": {
   "codemirror_mode": {
    "name": "ipython",
    "version": 3
   },
   "file_extension": ".py",
   "mimetype": "text/x-python",
   "name": "python",
   "nbconvert_exporter": "python",
   "pygments_lexer": "ipython3",
   "version": "3.10.5"
  }
 },
 "nbformat": 4,
 "nbformat_minor": 5
}
