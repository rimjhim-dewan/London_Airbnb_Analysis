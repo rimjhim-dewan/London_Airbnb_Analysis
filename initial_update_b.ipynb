{
 "cells": [
  {
   "cell_type": "code",
   "execution_count": 41,
   "id": "1825c5b6",
   "metadata": {},
   "outputs": [],
   "source": [
    "import pandas as pd\n",
    "import numpy as np"
   ]
  },
  {
   "cell_type": "code",
   "execution_count": 42,
   "id": "fe9eddff",
   "metadata": {},
   "outputs": [],
   "source": [
    "df=pd.read_csv('price_to_int.csv')"
   ]
  },
  {
   "cell_type": "code",
   "execution_count": 43,
   "id": "d9c84484",
   "metadata": {},
   "outputs": [
    {
     "data": {
      "text/html": [
       "<div>\n",
       "<style scoped>\n",
       "    .dataframe tbody tr th:only-of-type {\n",
       "        vertical-align: middle;\n",
       "    }\n",
       "\n",
       "    .dataframe tbody tr th {\n",
       "        vertical-align: top;\n",
       "    }\n",
       "\n",
       "    .dataframe thead th {\n",
       "        text-align: right;\n",
       "    }\n",
       "</style>\n",
       "<table border=\"1\" class=\"dataframe\">\n",
       "  <thead>\n",
       "    <tr style=\"text-align: right;\">\n",
       "      <th></th>\n",
       "      <th>Unnamed: 0</th>\n",
       "      <th>name</th>\n",
       "      <th>host_name</th>\n",
       "      <th>latitude</th>\n",
       "      <th>longitude</th>\n",
       "      <th>host_since</th>\n",
       "      <th>host_location</th>\n",
       "      <th>host_acceptance_rate</th>\n",
       "      <th>property_type</th>\n",
       "      <th>room_type</th>\n",
       "      <th>price</th>\n",
       "      <th>minimum_nights</th>\n",
       "      <th>maximum_nights</th>\n",
       "      <th>availability_30</th>\n",
       "      <th>availability_365</th>\n",
       "      <th>number_of_reviews</th>\n",
       "      <th>review_scores_rating</th>\n",
       "    </tr>\n",
       "  </thead>\n",
       "  <tbody>\n",
       "    <tr>\n",
       "      <th>0</th>\n",
       "      <td>0</td>\n",
       "      <td>Lovely private bedroom in Muswell Hill.</td>\n",
       "      <td>Forough</td>\n",
       "      <td>51.597280</td>\n",
       "      <td>-0.139330</td>\n",
       "      <td>2015-07-20</td>\n",
       "      <td>London, United Kingdom</td>\n",
       "      <td>NaN</td>\n",
       "      <td>Private room in condo</td>\n",
       "      <td>Private room</td>\n",
       "      <td>100</td>\n",
       "      <td>1</td>\n",
       "      <td>365</td>\n",
       "      <td>30</td>\n",
       "      <td>365</td>\n",
       "      <td>0</td>\n",
       "      <td>NaN</td>\n",
       "    </tr>\n",
       "    <tr>\n",
       "      <th>1</th>\n",
       "      <td>1</td>\n",
       "      <td>Studio Flat  Franklin London</td>\n",
       "      <td>Hussein</td>\n",
       "      <td>51.636518</td>\n",
       "      <td>-0.177475</td>\n",
       "      <td>2023-01-14</td>\n",
       "      <td>London, United Kingdom</td>\n",
       "      <td>100%</td>\n",
       "      <td>Entire rental unit</td>\n",
       "      <td>Entire home/apt</td>\n",
       "      <td>65</td>\n",
       "      <td>180</td>\n",
       "      <td>365</td>\n",
       "      <td>30</td>\n",
       "      <td>365</td>\n",
       "      <td>0</td>\n",
       "      <td>NaN</td>\n",
       "    </tr>\n",
       "    <tr>\n",
       "      <th>2</th>\n",
       "      <td>2</td>\n",
       "      <td>PropertyPlug - 2Bed Flat in Edgware SmartTV WiFi</td>\n",
       "      <td>Paul</td>\n",
       "      <td>51.608180</td>\n",
       "      <td>-0.277400</td>\n",
       "      <td>2020-01-08</td>\n",
       "      <td>NaN</td>\n",
       "      <td>91%</td>\n",
       "      <td>Entire rental unit</td>\n",
       "      <td>Entire home/apt</td>\n",
       "      <td>132</td>\n",
       "      <td>2</td>\n",
       "      <td>28</td>\n",
       "      <td>12</td>\n",
       "      <td>35</td>\n",
       "      <td>0</td>\n",
       "      <td>NaN</td>\n",
       "    </tr>\n",
       "    <tr>\n",
       "      <th>3</th>\n",
       "      <td>3</td>\n",
       "      <td>Wimbledon Double Bedroom Ensuite</td>\n",
       "      <td>Nikki</td>\n",
       "      <td>51.422310</td>\n",
       "      <td>-0.188410</td>\n",
       "      <td>2010-08-01</td>\n",
       "      <td>London, United Kingdom</td>\n",
       "      <td>100%</td>\n",
       "      <td>Private room in rental unit</td>\n",
       "      <td>Private room</td>\n",
       "      <td>100</td>\n",
       "      <td>5</td>\n",
       "      <td>1125</td>\n",
       "      <td>30</td>\n",
       "      <td>365</td>\n",
       "      <td>4</td>\n",
       "      <td>3.67</td>\n",
       "    </tr>\n",
       "    <tr>\n",
       "      <th>4</th>\n",
       "      <td>4</td>\n",
       "      <td>Stunning Apartment 2 minutes walk to Tube Station</td>\n",
       "      <td>Joseph</td>\n",
       "      <td>51.602282</td>\n",
       "      <td>-0.193606</td>\n",
       "      <td>2014-12-22</td>\n",
       "      <td>NaN</td>\n",
       "      <td>46%</td>\n",
       "      <td>Entire condo</td>\n",
       "      <td>Entire home/apt</td>\n",
       "      <td>120</td>\n",
       "      <td>5</td>\n",
       "      <td>90</td>\n",
       "      <td>23</td>\n",
       "      <td>337</td>\n",
       "      <td>0</td>\n",
       "      <td>NaN</td>\n",
       "    </tr>\n",
       "  </tbody>\n",
       "</table>\n",
       "</div>"
      ],
      "text/plain": [
       "   Unnamed: 0                                               name host_name  \\\n",
       "0           0            Lovely private bedroom in Muswell Hill.   Forough   \n",
       "1           1                       Studio Flat  Franklin London   Hussein   \n",
       "2           2   PropertyPlug - 2Bed Flat in Edgware SmartTV WiFi      Paul   \n",
       "3           3                   Wimbledon Double Bedroom Ensuite     Nikki   \n",
       "4           4  Stunning Apartment 2 minutes walk to Tube Station    Joseph   \n",
       "\n",
       "    latitude  longitude  host_since           host_location  \\\n",
       "0  51.597280  -0.139330  2015-07-20  London, United Kingdom   \n",
       "1  51.636518  -0.177475  2023-01-14  London, United Kingdom   \n",
       "2  51.608180  -0.277400  2020-01-08                     NaN   \n",
       "3  51.422310  -0.188410  2010-08-01  London, United Kingdom   \n",
       "4  51.602282  -0.193606  2014-12-22                     NaN   \n",
       "\n",
       "  host_acceptance_rate                property_type        room_type  price  \\\n",
       "0                  NaN        Private room in condo     Private room    100   \n",
       "1                 100%           Entire rental unit  Entire home/apt     65   \n",
       "2                  91%           Entire rental unit  Entire home/apt    132   \n",
       "3                 100%  Private room in rental unit     Private room    100   \n",
       "4                  46%                 Entire condo  Entire home/apt    120   \n",
       "\n",
       "   minimum_nights  maximum_nights  availability_30  availability_365  \\\n",
       "0               1             365               30               365   \n",
       "1             180             365               30               365   \n",
       "2               2              28               12                35   \n",
       "3               5            1125               30               365   \n",
       "4               5              90               23               337   \n",
       "\n",
       "   number_of_reviews  review_scores_rating  \n",
       "0                  0                   NaN  \n",
       "1                  0                   NaN  \n",
       "2                  0                   NaN  \n",
       "3                  4                  3.67  \n",
       "4                  0                   NaN  "
      ]
     },
     "execution_count": 43,
     "metadata": {},
     "output_type": "execute_result"
    }
   ],
   "source": [
    "df.head()"
   ]
  },
  {
   "cell_type": "code",
   "execution_count": 44,
   "id": "1aba6cee",
   "metadata": {},
   "outputs": [],
   "source": [
    "b=[]\n",
    "\n",
    "for i in range(len(df)):\n",
    "    if(type(df['host_since'][i])!=str):\n",
    "        b.append(i)"
   ]
  },
  {
   "cell_type": "code",
   "execution_count": 45,
   "id": "bb9c8917",
   "metadata": {},
   "outputs": [
    {
     "data": {
      "text/plain": [
       "[4120, 11638, 34176, 34663, 63295]"
      ]
     },
     "execution_count": 45,
     "metadata": {},
     "output_type": "execute_result"
    }
   ],
   "source": [
    "b"
   ]
  },
  {
   "cell_type": "code",
   "execution_count": 50,
   "id": "a3f07da0",
   "metadata": {},
   "outputs": [
    {
     "data": {
      "text/plain": [
       "75241"
      ]
     },
     "execution_count": 50,
     "metadata": {},
     "output_type": "execute_result"
    }
   ],
   "source": [
    "len(df)"
   ]
  },
  {
   "cell_type": "code",
   "execution_count": 52,
   "id": "e88cddd2",
   "metadata": {},
   "outputs": [],
   "source": [
    "df.drop(b,axis=0,inplace=True)"
   ]
  },
  {
   "cell_type": "code",
   "execution_count": 53,
   "id": "1e8e7c1d",
   "metadata": {},
   "outputs": [
    {
     "data": {
      "text/plain": [
       "75236"
      ]
     },
     "execution_count": 53,
     "metadata": {},
     "output_type": "execute_result"
    }
   ],
   "source": [
    "len(df)"
   ]
  },
  {
   "cell_type": "code",
   "execution_count": 54,
   "id": "2dea6d61",
   "metadata": {},
   "outputs": [],
   "source": [
    "df.reset_index(drop=True, inplace=True)"
   ]
  },
  {
   "cell_type": "code",
   "execution_count": 55,
   "id": "ab7cacb2",
   "metadata": {},
   "outputs": [
    {
     "name": "stderr",
     "output_type": "stream",
     "text": [
      "C:\\Users\\chinm\\AppData\\Local\\Temp\\ipykernel_25476\\2373500281.py:2: SettingWithCopyWarning: \n",
      "A value is trying to be set on a copy of a slice from a DataFrame\n",
      "\n",
      "See the caveats in the documentation: https://pandas.pydata.org/pandas-docs/stable/user_guide/indexing.html#returning-a-view-versus-a-copy\n",
      "  df['host_since'][i]=2023-int(df['host_since'][i][0:4])\n"
     ]
    }
   ],
   "source": [
    "for i in range(len(df)):\n",
    "    df['host_since'][i]=2023-int(df['host_since'][i][0:4])"
   ]
  },
  {
   "cell_type": "code",
   "execution_count": 56,
   "id": "3076262f",
   "metadata": {},
   "outputs": [
    {
     "data": {
      "text/plain": [
       "75236"
      ]
     },
     "execution_count": 56,
     "metadata": {},
     "output_type": "execute_result"
    }
   ],
   "source": [
    "len(df)"
   ]
  },
  {
   "cell_type": "code",
   "execution_count": null,
   "id": "2cd5c6ff",
   "metadata": {},
   "outputs": [],
   "source": []
  }
 ],
 "metadata": {
  "kernelspec": {
   "display_name": "Python 3 (ipykernel)",
   "language": "python",
   "name": "python3"
  },
  "language_info": {
   "codemirror_mode": {
    "name": "ipython",
    "version": 3
   },
   "file_extension": ".py",
   "mimetype": "text/x-python",
   "name": "python",
   "nbconvert_exporter": "python",
   "pygments_lexer": "ipython3",
   "version": "3.10.5"
  }
 },
 "nbformat": 4,
 "nbformat_minor": 5
}
